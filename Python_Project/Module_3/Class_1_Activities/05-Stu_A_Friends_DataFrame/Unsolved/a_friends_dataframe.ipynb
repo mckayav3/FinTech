{
 "cells": [
  {
   "cell_type": "markdown",
   "metadata": {},
   "source": [
    "# A Friends DataFrame\n",
    "\n",
    "### Instructions\n",
    "\n",
    "#### Part 1: Initial Setup\n",
    "\n",
    "1. Ask each classmate in the breakout room the following:\n",
    "    * Their name.\n",
    "    * Their location.\n",
    "    * How many years of software experience they have.\n",
    "    * One technology they have experience with.\n",
    "\n",
    "2. Import the required libraries and dependencies into your Jupyter Notebook.\n",
    "\n",
    "#### Part 2: `Series` to `DataFrame`\n",
    "\n",
    "1. Create three dictionaries for the data collected.\n",
    "\n",
    "    * The keys for each dictionary are the names.\n",
    "    * The values for the first dictionary are the locations.\n",
    "    * The values for the second dictionary are the years of experience.\n",
    "    * The values for the third dictionary are the technology used.\n",
    "\n",
    "2. Convert each dictionary into a Pandas `Series`, storing each in its own variable.\n",
    "\n",
    "3. Create a Pandas `DataFrame` using the three `Series` as data.\n",
    "\n",
    "4. Transpose the resulting `DataFrame`.\n",
    "\n",
    "#### Part 3: `Dictionary` to `DataFrame`\n",
    "\n",
    "1. Create a single `dictionary` where the keys are your classmates' names and the other values are stored in a list.\n",
    "\n",
    "  For example:\n",
    "\n",
    "  ```python\n",
    "  my_classmates = {\n",
    "    \"Anna\": [\"London\",1,\"Java\"],\n",
    "    \"Mohammad\" : [\"Chicago\",0,\"Microsoft Office\"],\n",
    "  }\n",
    "  ```\n",
    "\n",
    "2. Create a Pandas DataFrame, using the my_classmates dictionary as the data. **Hint:** Use the `index` parameter and label the column names with [\"City\", \"Software Experience\", \"Technologies Used\"].\n",
    "\n",
    "3. Transpose the DataFrame.\n",
    "\n",
    "#### Part 4: Manipulate the `DataFrame`\n",
    "\n",
    "1. View the data in the `DataFrame`'s City column.\n",
    "\n",
    "2. Using the `mean` method, calculate the average years of software experience of the group.\n",
    "\n",
    "3. For one of your classmates, increase their years of software experience by 1 year.\n",
    "\n",
    "Be prepared to share some of your solutions with the class when you return from the breakout room.\n"
   ]
  },
  {
   "cell_type": "markdown",
   "metadata": {},
   "source": [
    "# Part 1: Initial Setup\n",
    "\n",
    "## Ask each classmate in the breakout room the following:\n",
    "\n",
    "* Their name.\n",
    "* Their location. \n",
    "* How many years of software experience they have.\n",
    "* One technology they have experience with. \n",
    "\n",
    "## Import the required libraries and dependencies."
   ]
  },
  {
   "cell_type": "code",
   "execution_count": null,
   "metadata": {},
   "outputs": [],
   "source": [
    "# Import the Pandas library\n",
    "# YOUR CODE HERE\n",
    "import pandas as pd"
   ]
  },
  {
   "cell_type": "markdown",
   "metadata": {},
   "source": [
    "# Part 2: `Series` to `DataFrame`"
   ]
  },
  {
   "cell_type": "markdown",
   "metadata": {},
   "source": [
    "## Create three dictionaries for the data collected from your classmates.\n",
    "\n",
    "* The keys for each dictionary are the names.\n",
    "* The values for the first dictionary are the locations.\n",
    "* The values for the second dictionary are the years of experience.\n",
    "* The values for the third dictionary are the technology used."
   ]
  },
  {
   "cell_type": "code",
   "execution_count": 14,
   "metadata": {},
   "outputs": [],
   "source": [
    "# Create three dictionaries with classmates' names as keys, location, years and tech as values.\n",
    "# YOUR CODE HERE\n",
    "my_classmates_locations = {\"Martique\":\"Federal Way\", \"Andrew\":\"Issaquah\", \"Cole\":\"Seattle\", \"Josh\":\"Bellevue\"}\n",
    "\n",
    "# YOUR CODE HERE\n",
    "my_classmates_years = {\"Martique\":1, \"Andrew\":2, \"Cole\": 3, \"Josh\":4}\n",
    "\n",
    "# YOUR CODE HERE\n",
    "my_classmates_technology = {\"Martique\":\"Office\", \"Andrew\":\"excel\", \"Cole\": \"Power Point\", \"Josh\":\"One Note\"}"
   ]
  },
  {
   "cell_type": "markdown",
   "metadata": {},
   "source": [
    "## Convert each dictionary into a Pandas Series, storing each in its own variable.\n"
   ]
  },
  {
   "cell_type": "code",
   "execution_count": 18,
   "metadata": {},
   "outputs": [
    {
     "ename": "AttributeError",
     "evalue": "'dict' object has no attribute 'series'",
     "output_type": "error",
     "traceback": [
      "\u001b[1;31m---------------------------------------------------------------------------\u001b[0m",
      "\u001b[1;31mAttributeError\u001b[0m                            Traceback (most recent call last)",
      "\u001b[1;32m<ipython-input-18-5b973ac2d6bb>\u001b[0m in \u001b[0;36m<module>\u001b[1;34m\u001b[0m\n\u001b[0;32m      1\u001b[0m \u001b[1;31m# Create a series from each dictionary\u001b[0m\u001b[1;33m\u001b[0m\u001b[1;33m\u001b[0m\u001b[1;33m\u001b[0m\u001b[0m\n\u001b[0;32m      2\u001b[0m \u001b[1;31m# YOUR CODE HERE\u001b[0m\u001b[1;33m\u001b[0m\u001b[1;33m\u001b[0m\u001b[1;33m\u001b[0m\u001b[0m\n\u001b[1;32m----> 3\u001b[1;33m \u001b[0mclassmates_locations\u001b[0m \u001b[1;33m=\u001b[0m \u001b[0mmy_classmates_locations\u001b[0m\u001b[1;33m.\u001b[0m\u001b[0mseries\u001b[0m\u001b[1;33m(\u001b[0m\u001b[0mmy_classmates_locations\u001b[0m\u001b[1;33m)\u001b[0m\u001b[1;33m\u001b[0m\u001b[1;33m\u001b[0m\u001b[0m\n\u001b[0m\u001b[0;32m      4\u001b[0m \u001b[0mprint\u001b[0m\u001b[1;33m(\u001b[0m\u001b[0mclassmates_locations\u001b[0m\u001b[1;33m)\u001b[0m\u001b[1;33m\u001b[0m\u001b[1;33m\u001b[0m\u001b[0m\n\u001b[0;32m      5\u001b[0m \u001b[1;31m# YOUR CODE HERE\u001b[0m\u001b[1;33m\u001b[0m\u001b[1;33m\u001b[0m\u001b[1;33m\u001b[0m\u001b[0m\n",
      "\u001b[1;31mAttributeError\u001b[0m: 'dict' object has no attribute 'series'"
     ]
    }
   ],
   "source": [
    "# Create a series from each dictionary\n",
    "# YOUR CODE HERE\n",
    "classmates_locations = my_classmates_locations.series(my_classmates_locations)\n",
    "print(classmates_locations)\n",
    "# YOUR CODE HERE\n",
    "# YOUR CODE HERE\n",
    "\n",
    "# Preview one of the Series\n",
    "# YOUR CODE HERE"
   ]
  },
  {
   "cell_type": "markdown",
   "metadata": {},
   "source": [
    "## Create a Pandas `DataFrame` using the three `Series` as data"
   ]
  },
  {
   "cell_type": "code",
   "execution_count": null,
   "metadata": {},
   "outputs": [],
   "source": [
    "# Create DataFrame from the three Series\n",
    "# Hint: Pass them as a list to the data parameter\n",
    "# YOUR CODE HERE\n",
    "\n",
    "# View the resulting DataFrame\n",
    "# YOUR CODE HERE"
   ]
  },
  {
   "cell_type": "markdown",
   "metadata": {},
   "source": [
    "## Transpose the resulting `DataFrame`."
   ]
  },
  {
   "cell_type": "code",
   "execution_count": null,
   "metadata": {},
   "outputs": [],
   "source": [
    "# Transpose DataFrame \n",
    "# YOUR CODE HERE\n",
    "\n",
    "# View the transposed DataFrame\n",
    "# YOUR CODE HERE"
   ]
  },
  {
   "cell_type": "markdown",
   "metadata": {},
   "source": [
    "# Part 3: `Dictionary` to `DataFrame`"
   ]
  },
  {
   "cell_type": "markdown",
   "metadata": {},
   "source": [
    "## Create a single `dictionary` containing the data previously collected from your classmates.\n",
    "\n",
    "* The keys for the dictionary are your classmates' names.\n",
    "* The values for the dictionary are the remaining data in list format.\n",
    "* For example:\n",
    "\n",
    "\n",
    "```python\n",
    "my_classmates = {\n",
    "  \"Anna\": [\"London\",1,\"Java\"],\n",
    "  \"Mohammad\" : [\"Chicago\",0,\"Microsoft Office\"],\n",
    "}\n",
    "```"
   ]
  },
  {
   "cell_type": "code",
   "execution_count": null,
   "metadata": {},
   "outputs": [],
   "source": [
    "# Create Dictionary\n",
    "# YOUR CODE HERE"
   ]
  },
  {
   "cell_type": "markdown",
   "metadata": {},
   "source": [
    "## Create a Pandas `DataFrame` using the my_classmates dictionary as the data."
   ]
  },
  {
   "cell_type": "code",
   "execution_count": null,
   "metadata": {},
   "outputs": [],
   "source": [
    "# Create DataFrame from the my_classmates dictionary\n",
    "# Hint - Use the `index` parameter and label the \n",
    "# column names with [\"City\", \"Software Experience\", \"Technologies Used\"]\n",
    "# YOUR CODE HERE\n",
    "\n",
    "\n",
    "# View the resulting DataFrame\n",
    "# YOUR CODE HERE"
   ]
  },
  {
   "cell_type": "markdown",
   "metadata": {},
   "source": [
    "## Transpose the `DataFrame`."
   ]
  },
  {
   "cell_type": "code",
   "execution_count": null,
   "metadata": {},
   "outputs": [],
   "source": [
    "# Transpose DataFrame \n",
    "# YOUR CODE HERE\n",
    "\n",
    "# View the transposed DataFrame\n",
    "# YOUR CODE HERE"
   ]
  },
  {
   "cell_type": "markdown",
   "metadata": {},
   "source": [
    "# Part 4: Manipulate the `DataFrame`"
   ]
  },
  {
   "cell_type": "markdown",
   "metadata": {},
   "source": [
    "## View the data in the `DataFrame`'s 'City' column. "
   ]
  },
  {
   "cell_type": "code",
   "execution_count": null,
   "metadata": {},
   "outputs": [],
   "source": [
    "# View the entries in the DataFrame's \"City\" column\n",
    "# YOUR CODE HERE"
   ]
  },
  {
   "cell_type": "markdown",
   "metadata": {},
   "source": [
    "## Using the `mean()` method, calculate the average years of software experience of the group."
   ]
  },
  {
   "cell_type": "code",
   "execution_count": null,
   "metadata": {},
   "outputs": [],
   "source": [
    "# Calculate mean value of the group's software experience\n",
    "# YOUR CODE HERE"
   ]
  },
  {
   "cell_type": "markdown",
   "metadata": {},
   "source": [
    "## For one of your classmates, increase their years of software experience by 1 year. "
   ]
  },
  {
   "cell_type": "code",
   "execution_count": null,
   "metadata": {},
   "outputs": [],
   "source": [
    "# For one of your classmates, increase their years of software experience by 1 year. \n",
    "# YOUR CODE HERE\n",
    "\n",
    "# Confirm that the change has been made by viewing the DataFrame\n",
    "# YOUR CODE HERE"
   ]
  },
  {
   "cell_type": "code",
   "execution_count": null,
   "metadata": {},
   "outputs": [],
   "source": []
  }
 ],
 "metadata": {
  "kernelspec": {
   "display_name": "Python 3",
   "language": "python",
   "name": "python3"
  },
  "language_info": {
   "codemirror_mode": {
    "name": "ipython",
    "version": 3
   },
   "file_extension": ".py",
   "mimetype": "text/x-python",
   "name": "python",
   "nbconvert_exporter": "python",
   "pygments_lexer": "ipython3",
   "version": "3.8.8"
  }
 },
 "nbformat": 4,
 "nbformat_minor": 4
}
